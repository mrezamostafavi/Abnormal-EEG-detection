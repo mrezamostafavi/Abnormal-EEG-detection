{
  "cells": [
    {
      "cell_type": "code",
      "execution_count": null,
      "metadata": {
        "id": "Y0LNIY_k8hvr",
        "colab": {
          "base_uri": "https://localhost:8080/"
        },
        "outputId": "54b0eb24-8986-494f-b15d-73894d307732"
      },
      "outputs": [
        {
          "output_type": "stream",
          "name": "stdout",
          "text": [
            "Drive already mounted at /gdrive; to attempt to forcibly remount, call drive.mount(\"/gdrive\", force_remount=True).\n",
            "/gdrive\n"
          ]
        }
      ],
      "source": [
        "from google.colab import drive\n",
        "drive.mount('/gdrive')\n",
        "%cd /gdrive"
      ]
    },
    {
      "cell_type": "code",
      "execution_count": null,
      "metadata": {
        "id": "Pb_EzppD8qxm",
        "colab": {
          "base_uri": "https://localhost:8080/"
        },
        "outputId": "199aa0ee-338d-4655-bfc2-5ba923650049"
      },
      "outputs": [
        {
          "output_type": "stream",
          "name": "stdout",
          "text": [
            "/gdrive/MyDrive/final dataset2\n"
          ]
        }
      ],
      "source": [
        "cd MyDrive/final dataset2"
      ]
    },
    {
      "cell_type": "code",
      "source": [
        "import numpy as np\n",
        "import tensorflow as tf\n",
        "import random as python_random\n",
        "\n",
        "np.random.seed(100)\n",
        "python_random.seed(100)\n",
        "tf.random.set_seed(100)"
      ],
      "metadata": {
        "id": "G0Ci71R19new"
      },
      "execution_count": null,
      "outputs": []
    },
    {
      "cell_type": "code",
      "execution_count": null,
      "metadata": {
        "id": "ewseAIH78yYM"
      },
      "outputs": [],
      "source": [
        "import pandas as pd\n",
        "import numpy as np\n",
        "import matplotlib.pyplot as plt\n",
        "import warnings\n",
        "warnings.filterwarnings('ignore')\n",
        "import tensorflow as tf\n",
        "import seaborn as sns\n",
        "from sklearn.model_selection import train_test_split\n",
        "from sklearn.metrics import confusion_matrix, classification_report\n",
        "from keras.regularizers import l2"
      ]
    },
    {
      "cell_type": "code",
      "execution_count": null,
      "metadata": {
        "id": "wemS8Jq682Zr"
      },
      "outputs": [],
      "source": [
        "train = pd.read_csv('train.csv')\n",
        "test = pd.read_csv('test.csv')"
      ]
    },
    {
      "cell_type": "code",
      "execution_count": null,
      "metadata": {
        "id": "JKMt1dhU8-Ra"
      },
      "outputs": [],
      "source": [
        "Y_train = train[['abnormal','normal']]\n",
        "X_train = train.drop(labels = ['abnormal','normal'],axis = 1)\n",
        "Y_test = test[['abnormal','normal']]\n",
        "X_test = test.drop(labels = ['abnormal','normal'],axis = 1)"
      ]
    },
    {
      "cell_type": "code",
      "execution_count": null,
      "metadata": {
        "id": "Ka0TOhKu9F8W"
      },
      "outputs": [],
      "source": [
        "X_test.drop('Unnamed: 0', inplace=True, axis=1)\n",
        "X_train.drop('Unnamed: 0', inplace=True, axis=1)"
      ]
    },
    {
      "cell_type": "code",
      "execution_count": null,
      "metadata": {
        "id": "4VNezGIhIxWM"
      },
      "outputs": [],
      "source": [
        "from sklearn.preprocessing import MinMaxScaler\n",
        "\n",
        "mm = MinMaxScaler()\n",
        "X_test= mm.fit_transform(X_test)\n",
        "X_test = pd.DataFrame(X_test)\n",
        "X_train= mm.fit_transform(X_train)\n",
        "X_train = pd.DataFrame(X_train)\n"
      ]
    },
    {
      "cell_type": "code",
      "execution_count": null,
      "metadata": {
        "id": "wvFwT8YpFddl"
      },
      "outputs": [],
      "source": [
        "from sklearn.preprocessing import StandardScaler\n",
        "scaler = StandardScaler()\n",
        "X_test = scaler.fit_transform(X_test)\n",
        "X_test = pd.DataFrame(X_test)\n",
        "X_train = scaler.fit_transform(X_train)\n",
        "X_train = pd.DataFrame(X_train)"
      ]
    },
    {
      "cell_type": "code",
      "execution_count": null,
      "metadata": {
        "id": "V-r8sVnYiZf-"
      },
      "outputs": [],
      "source": [
        "X_train, X_val, Y_train, Y_val = train_test_split(X_train, Y_train, test_size = 0.2, random_state=4)"
      ]
    },
    {
      "cell_type": "code",
      "execution_count": null,
      "metadata": {
        "colab": {
          "base_uri": "https://localhost:8080/"
        },
        "id": "PCbMPSnZ9UcE",
        "outputId": "6cfe8afb-9e25-4ed1-d4ae-b7695217155d"
      },
      "outputs": [
        {
          "output_type": "stream",
          "name": "stdout",
          "text": [
            "Model: \"sequential\"\n",
            "_________________________________________________________________\n",
            " Layer (type)                Output Shape              Param #   \n",
            "=================================================================\n",
            " conv1d (Conv1D)             (None, 4993, 8)           192       \n",
            "                                                                 \n",
            " dropout (Dropout)           (None, 4993, 8)           0         \n",
            "                                                                 \n",
            " max_pooling1d (MaxPooling1D  (None, 2496, 8)          0         \n",
            " )                                                               \n",
            "                                                                 \n",
            " batch_normalization (BatchN  (None, 2496, 8)          32        \n",
            " ormalization)                                                   \n",
            "                                                                 \n",
            " conv1d_1 (Conv1D)           (None, 2484, 64)          6720      \n",
            "                                                                 \n",
            " max_pooling1d_1 (MaxPooling  (None, 1242, 64)         0         \n",
            " 1D)                                                             \n",
            "                                                                 \n",
            " conv1d_2 (Conv1D)           (None, 1240, 128)         24704     \n",
            "                                                                 \n",
            " conv1d_3 (Conv1D)           (None, 1234, 32)          28704     \n",
            "                                                                 \n",
            " max_pooling1d_2 (MaxPooling  (None, 617, 32)          0         \n",
            " 1D)                                                             \n",
            "                                                                 \n",
            " dropout_1 (Dropout)         (None, 617, 32)           0         \n",
            "                                                                 \n",
            " conv1d_4 (Conv1D)           (None, 607, 128)          45184     \n",
            "                                                                 \n",
            " conv1d_5 (Conv1D)           (None, 603, 64)           41024     \n",
            "                                                                 \n",
            " conv1d_6 (Conv1D)           (None, 595, 64)           36928     \n",
            "                                                                 \n",
            " conv1d_7 (Conv1D)           (None, 581, 48)           46128     \n",
            "                                                                 \n",
            " dropout_2 (Dropout)         (None, 581, 48)           0         \n",
            "                                                                 \n",
            " max_pooling1d_3 (MaxPooling  (None, 290, 48)          0         \n",
            " 1D)                                                             \n",
            "                                                                 \n",
            " conv1d_8 (Conv1D)           (None, 288, 32)           4640      \n",
            "                                                                 \n",
            " conv1d_9 (Conv1D)           (None, 286, 16)           1552      \n",
            "                                                                 \n",
            " max_pooling1d_4 (MaxPooling  (None, 143, 16)          0         \n",
            " 1D)                                                             \n",
            "                                                                 \n",
            " batch_normalization_1 (Batc  (None, 143, 16)          64        \n",
            " hNormalization)                                                 \n",
            "                                                                 \n",
            " flatten (Flatten)           (None, 2288)              0         \n",
            "                                                                 \n",
            " dense (Dense)               (None, 64)                146496    \n",
            "                                                                 \n",
            " dropout_3 (Dropout)         (None, 64)                0         \n",
            "                                                                 \n",
            " dense_1 (Dense)             (None, 2)                 130       \n",
            "                                                                 \n",
            "=================================================================\n",
            "Total params: 382,498\n",
            "Trainable params: 382,450\n",
            "Non-trainable params: 48\n",
            "_________________________________________________________________\n"
          ]
        }
      ],
      "source": [
        "# Used Sequential\n",
        "model=tf.keras.Sequential()\n",
        "model.add(tf.keras.Input(\n",
        "    shape=(15000,1),\n",
        "    batch_size=None))\n",
        "model.add(tf.keras.layers.Conv1D(8, (23), strides=3, activation='relu'))\n",
        "model.add(tf.keras.layers.Dropout(.2))\n",
        "model.add(tf.keras.layers.MaxPooling1D(2,strides=2))\n",
        "model.add(tf.keras.layers.BatchNormalization())\n",
        "model.add(tf.keras.layers.Conv1D(64, (13), strides=1, activation='relu'))\n",
        "model.add(tf.keras.layers.MaxPooling1D(2,strides=2))\n",
        "model.add(tf.keras.layers.Conv1D(128, (3), strides=1, activation='relu'))\n",
        "model.add(tf.keras.layers.Conv1D(32, (7), strides=1, activation='relu'))\n",
        "model.add(tf.keras.layers.MaxPooling1D(2,strides=2))\n",
        "model.add(tf.keras.layers.Dropout(0.2))\n",
        "model.add(tf.keras.layers.Conv1D(128, (11), strides=1, activation='relu'))\n",
        "model.add(tf.keras.layers.Conv1D(64, (5), strides=1, activation='relu'))\n",
        "model.add(tf.keras.layers.Conv1D(64, (9), strides=1, activation='relu'))\n",
        "model.add(tf.keras.layers.Conv1D(48, (15), strides=1, activation='relu'))\n",
        "model.add(tf.keras.layers.Dropout(0.1))\n",
        "model.add(tf.keras.layers.MaxPooling1D(2,strides=2))\n",
        "model.add(tf.keras.layers.Conv1D(32, (3), strides=1, activation='relu'))\n",
        "model.add(tf.keras.layers.Conv1D(16, (3), strides=1, activation='relu'))\n",
        "model.add(tf.keras.layers.MaxPooling1D(2,strides=2))\n",
        "model.add(tf.keras.layers.BatchNormalization())\n",
        "model.add(tf.keras.layers.Flatten())\n",
        "model.add(tf.keras.layers.Dense(64,activation='relu'))\n",
        "model.add(tf.keras.layers.Dropout(0.1))\n",
        "model.add(tf.keras.layers.Dense(2,activation='softmax'))\n",
        "model.summary()"
      ]
    },
    {
      "cell_type": "code",
      "execution_count": null,
      "metadata": {
        "id": "doyNOdUp9Zo7"
      },
      "outputs": [],
      "source": [
        "optimizer = tf.keras.optimizers.Adam( learning_rate=0.00001,beta_1=0.9,beta_2=0.999,decay=1e-3)"
      ]
    },
    {
      "cell_type": "code",
      "execution_count": null,
      "metadata": {
        "id": "bu2RgY4C9eUf"
      },
      "outputs": [],
      "source": [
        "model.compile(optimizer = optimizer , loss = \"categorical_crossentropy\", metrics=[\"accuracy\"])"
      ]
    },
    {
      "cell_type": "code",
      "execution_count": null,
      "metadata": {
        "colab": {
          "base_uri": "https://localhost:8080/"
        },
        "id": "ALXf96at9g0H",
        "outputId": "5b53baaa-3625-4364-da2f-c46249f0e561"
      },
      "outputs": [
        {
          "output_type": "stream",
          "name": "stdout",
          "text": [
            "Epoch 1/150\n",
            "17/17 [==============================] - 7s 176ms/step - loss: 0.7957 - accuracy: 0.5209 - val_loss: 0.6927 - val_accuracy: 0.5790\n",
            "Epoch 2/150\n",
            "17/17 [==============================] - 2s 102ms/step - loss: 0.7704 - accuracy: 0.5177 - val_loss: 0.6926 - val_accuracy: 0.5110\n",
            "Epoch 3/150\n",
            "17/17 [==============================] - 2s 101ms/step - loss: 0.7615 - accuracy: 0.5223 - val_loss: 0.6925 - val_accuracy: 0.5074\n",
            "Epoch 4/150\n",
            "17/17 [==============================] - 2s 101ms/step - loss: 0.7535 - accuracy: 0.5251 - val_loss: 0.6924 - val_accuracy: 0.5165\n",
            "Epoch 5/150\n",
            "17/17 [==============================] - 2s 101ms/step - loss: 0.7332 - accuracy: 0.5338 - val_loss: 0.6923 - val_accuracy: 0.5147\n",
            "Epoch 6/150\n",
            "17/17 [==============================] - 2s 102ms/step - loss: 0.7277 - accuracy: 0.5297 - val_loss: 0.6922 - val_accuracy: 0.5110\n",
            "Epoch 7/150\n",
            "17/17 [==============================] - 2s 103ms/step - loss: 0.7169 - accuracy: 0.5444 - val_loss: 0.6921 - val_accuracy: 0.5110\n",
            "Epoch 8/150\n",
            "17/17 [==============================] - 2s 102ms/step - loss: 0.7195 - accuracy: 0.5407 - val_loss: 0.6920 - val_accuracy: 0.5074\n",
            "Epoch 9/150\n",
            "17/17 [==============================] - 2s 102ms/step - loss: 0.7196 - accuracy: 0.5509 - val_loss: 0.6921 - val_accuracy: 0.5055\n",
            "Epoch 10/150\n",
            "17/17 [==============================] - 2s 101ms/step - loss: 0.7189 - accuracy: 0.5329 - val_loss: 0.6920 - val_accuracy: 0.5074\n",
            "Epoch 11/150\n",
            "17/17 [==============================] - 2s 102ms/step - loss: 0.7073 - accuracy: 0.5462 - val_loss: 0.6920 - val_accuracy: 0.5092\n",
            "Epoch 12/150\n",
            "17/17 [==============================] - 2s 102ms/step - loss: 0.7065 - accuracy: 0.5449 - val_loss: 0.6918 - val_accuracy: 0.5092\n",
            "Epoch 13/150\n",
            "17/17 [==============================] - 2s 101ms/step - loss: 0.7021 - accuracy: 0.5509 - val_loss: 0.6918 - val_accuracy: 0.5110\n",
            "Epoch 14/150\n",
            "17/17 [==============================] - 2s 102ms/step - loss: 0.7051 - accuracy: 0.5416 - val_loss: 0.6919 - val_accuracy: 0.5092\n",
            "Epoch 15/150\n",
            "17/17 [==============================] - 2s 102ms/step - loss: 0.6988 - accuracy: 0.5380 - val_loss: 0.6920 - val_accuracy: 0.5092\n",
            "Epoch 16/150\n",
            "17/17 [==============================] - 2s 102ms/step - loss: 0.6987 - accuracy: 0.5605 - val_loss: 0.6920 - val_accuracy: 0.5092\n",
            "Epoch 17/150\n",
            "17/17 [==============================] - 2s 102ms/step - loss: 0.7049 - accuracy: 0.5559 - val_loss: 0.6922 - val_accuracy: 0.5074\n",
            "Epoch 18/150\n",
            "17/17 [==============================] - 2s 102ms/step - loss: 0.6910 - accuracy: 0.5513 - val_loss: 0.6923 - val_accuracy: 0.5074\n",
            "Epoch 19/150\n",
            "17/17 [==============================] - 2s 102ms/step - loss: 0.6915 - accuracy: 0.5568 - val_loss: 0.6923 - val_accuracy: 0.5074\n",
            "Epoch 20/150\n",
            "17/17 [==============================] - 2s 102ms/step - loss: 0.6809 - accuracy: 0.5628 - val_loss: 0.6924 - val_accuracy: 0.5055\n",
            "Epoch 21/150\n",
            "17/17 [==============================] - 2s 103ms/step - loss: 0.6957 - accuracy: 0.5688 - val_loss: 0.6925 - val_accuracy: 0.5074\n",
            "Epoch 22/150\n",
            "17/17 [==============================] - 2s 102ms/step - loss: 0.6921 - accuracy: 0.5499 - val_loss: 0.6927 - val_accuracy: 0.5074\n",
            "Epoch 23/150\n",
            "17/17 [==============================] - 2s 110ms/step - loss: 0.6840 - accuracy: 0.5513 - val_loss: 0.6928 - val_accuracy: 0.5074\n",
            "Epoch 24/150\n",
            "17/17 [==============================] - 2s 118ms/step - loss: 0.6887 - accuracy: 0.5628 - val_loss: 0.6930 - val_accuracy: 0.5055\n",
            "Epoch 25/150\n",
            "17/17 [==============================] - 2s 103ms/step - loss: 0.6855 - accuracy: 0.5633 - val_loss: 0.6931 - val_accuracy: 0.5074\n",
            "Epoch 26/150\n",
            "17/17 [==============================] - 2s 103ms/step - loss: 0.6888 - accuracy: 0.5647 - val_loss: 0.6933 - val_accuracy: 0.5092\n",
            "Epoch 27/150\n",
            "17/17 [==============================] - 2s 103ms/step - loss: 0.6880 - accuracy: 0.5665 - val_loss: 0.6937 - val_accuracy: 0.5055\n",
            "Epoch 28/150\n",
            "17/17 [==============================] - 2s 103ms/step - loss: 0.6824 - accuracy: 0.5582 - val_loss: 0.6941 - val_accuracy: 0.5055\n",
            "Epoch 29/150\n",
            "17/17 [==============================] - 2s 102ms/step - loss: 0.6861 - accuracy: 0.5693 - val_loss: 0.6941 - val_accuracy: 0.5074\n",
            "Epoch 30/150\n",
            "17/17 [==============================] - 2s 103ms/step - loss: 0.6769 - accuracy: 0.5679 - val_loss: 0.6946 - val_accuracy: 0.5092\n",
            "Epoch 31/150\n",
            "17/17 [==============================] - 2s 103ms/step - loss: 0.6831 - accuracy: 0.5665 - val_loss: 0.6949 - val_accuracy: 0.5074\n",
            "Epoch 32/150\n",
            "17/17 [==============================] - 2s 103ms/step - loss: 0.6824 - accuracy: 0.5665 - val_loss: 0.6952 - val_accuracy: 0.5074\n",
            "Epoch 33/150\n",
            "17/17 [==============================] - 2s 103ms/step - loss: 0.6848 - accuracy: 0.5651 - val_loss: 0.6957 - val_accuracy: 0.5092\n",
            "Epoch 34/150\n",
            "17/17 [==============================] - 2s 103ms/step - loss: 0.6767 - accuracy: 0.5817 - val_loss: 0.6960 - val_accuracy: 0.5018\n",
            "Epoch 35/150\n",
            "17/17 [==============================] - 2s 103ms/step - loss: 0.6728 - accuracy: 0.5798 - val_loss: 0.6966 - val_accuracy: 0.5055\n",
            "Epoch 36/150\n",
            "17/17 [==============================] - 2s 103ms/step - loss: 0.6811 - accuracy: 0.5693 - val_loss: 0.6965 - val_accuracy: 0.5055\n",
            "Epoch 37/150\n",
            "17/17 [==============================] - 2s 103ms/step - loss: 0.6796 - accuracy: 0.5614 - val_loss: 0.6965 - val_accuracy: 0.5055\n",
            "Epoch 38/150\n",
            "17/17 [==============================] - 2s 103ms/step - loss: 0.6787 - accuracy: 0.5683 - val_loss: 0.6973 - val_accuracy: 0.5074\n",
            "Epoch 39/150\n",
            "17/17 [==============================] - 2s 104ms/step - loss: 0.6671 - accuracy: 0.5877 - val_loss: 0.6973 - val_accuracy: 0.5074\n",
            "Epoch 40/150\n",
            "17/17 [==============================] - 2s 104ms/step - loss: 0.6776 - accuracy: 0.5642 - val_loss: 0.6974 - val_accuracy: 0.5055\n",
            "Epoch 41/150\n",
            "17/17 [==============================] - 2s 104ms/step - loss: 0.6784 - accuracy: 0.5734 - val_loss: 0.6974 - val_accuracy: 0.5055\n",
            "Epoch 42/150\n",
            "17/17 [==============================] - 2s 105ms/step - loss: 0.6793 - accuracy: 0.5596 - val_loss: 0.6975 - val_accuracy: 0.5055\n",
            "Epoch 43/150\n",
            "17/17 [==============================] - 2s 104ms/step - loss: 0.6690 - accuracy: 0.5817 - val_loss: 0.6976 - val_accuracy: 0.5055\n",
            "Epoch 44/150\n",
            "17/17 [==============================] - 2s 103ms/step - loss: 0.6701 - accuracy: 0.5748 - val_loss: 0.6976 - val_accuracy: 0.5074\n",
            "Epoch 45/150\n",
            "17/17 [==============================] - 2s 103ms/step - loss: 0.6701 - accuracy: 0.5913 - val_loss: 0.6980 - val_accuracy: 0.5074\n",
            "Epoch 46/150\n",
            "17/17 [==============================] - 2s 104ms/step - loss: 0.6724 - accuracy: 0.5881 - val_loss: 0.6978 - val_accuracy: 0.5092\n",
            "Epoch 47/150\n",
            "17/17 [==============================] - 2s 104ms/step - loss: 0.6691 - accuracy: 0.5725 - val_loss: 0.6975 - val_accuracy: 0.5092\n",
            "Epoch 48/150\n",
            "17/17 [==============================] - 2s 103ms/step - loss: 0.6665 - accuracy: 0.5904 - val_loss: 0.6978 - val_accuracy: 0.5110\n",
            "Epoch 49/150\n",
            "17/17 [==============================] - 2s 103ms/step - loss: 0.6684 - accuracy: 0.5835 - val_loss: 0.6974 - val_accuracy: 0.5129\n",
            "Epoch 50/150\n",
            "17/17 [==============================] - 2s 103ms/step - loss: 0.6702 - accuracy: 0.5886 - val_loss: 0.6969 - val_accuracy: 0.5110\n",
            "Epoch 51/150\n",
            "17/17 [==============================] - 2s 103ms/step - loss: 0.6756 - accuracy: 0.5831 - val_loss: 0.6967 - val_accuracy: 0.5129\n",
            "Epoch 52/150\n",
            "17/17 [==============================] - 2s 103ms/step - loss: 0.6743 - accuracy: 0.5936 - val_loss: 0.6965 - val_accuracy: 0.5129\n",
            "Epoch 53/150\n",
            "17/17 [==============================] - 2s 103ms/step - loss: 0.6660 - accuracy: 0.5831 - val_loss: 0.6959 - val_accuracy: 0.5074\n",
            "Epoch 54/150\n",
            "17/17 [==============================] - 2s 103ms/step - loss: 0.6636 - accuracy: 0.6047 - val_loss: 0.6959 - val_accuracy: 0.5074\n",
            "Epoch 55/150\n",
            "17/17 [==============================] - 2s 104ms/step - loss: 0.6672 - accuracy: 0.5881 - val_loss: 0.6959 - val_accuracy: 0.5055\n",
            "Epoch 56/150\n",
            "17/17 [==============================] - 2s 103ms/step - loss: 0.6759 - accuracy: 0.5895 - val_loss: 0.6955 - val_accuracy: 0.5037\n",
            "Epoch 57/150\n",
            "17/17 [==============================] - 2s 103ms/step - loss: 0.6717 - accuracy: 0.5950 - val_loss: 0.6955 - val_accuracy: 0.5055\n",
            "Epoch 58/150\n",
            "17/17 [==============================] - 2s 102ms/step - loss: 0.6699 - accuracy: 0.5808 - val_loss: 0.6946 - val_accuracy: 0.5055\n",
            "Epoch 59/150\n",
            "17/17 [==============================] - 2s 103ms/step - loss: 0.6632 - accuracy: 0.5900 - val_loss: 0.6941 - val_accuracy: 0.5055\n",
            "Epoch 60/150\n",
            "17/17 [==============================] - 2s 103ms/step - loss: 0.6672 - accuracy: 0.5983 - val_loss: 0.6938 - val_accuracy: 0.5037\n",
            "Epoch 61/150\n",
            "17/17 [==============================] - 2s 103ms/step - loss: 0.6569 - accuracy: 0.6093 - val_loss: 0.6932 - val_accuracy: 0.5074\n",
            "Epoch 62/150\n",
            "17/17 [==============================] - 2s 103ms/step - loss: 0.6589 - accuracy: 0.6102 - val_loss: 0.6931 - val_accuracy: 0.5055\n",
            "Epoch 63/150\n",
            "17/17 [==============================] - 2s 103ms/step - loss: 0.6604 - accuracy: 0.6038 - val_loss: 0.6918 - val_accuracy: 0.5092\n",
            "Epoch 64/150\n",
            "17/17 [==============================] - 2s 103ms/step - loss: 0.6610 - accuracy: 0.6134 - val_loss: 0.6910 - val_accuracy: 0.5110\n",
            "Epoch 65/150\n",
            "17/17 [==============================] - 2s 103ms/step - loss: 0.6562 - accuracy: 0.6295 - val_loss: 0.6907 - val_accuracy: 0.5147\n",
            "Epoch 66/150\n",
            "17/17 [==============================] - 2s 103ms/step - loss: 0.6607 - accuracy: 0.6111 - val_loss: 0.6894 - val_accuracy: 0.5165\n",
            "Epoch 67/150\n",
            "17/17 [==============================] - 2s 103ms/step - loss: 0.6546 - accuracy: 0.6199 - val_loss: 0.6878 - val_accuracy: 0.5147\n",
            "Epoch 68/150\n",
            "17/17 [==============================] - 2s 103ms/step - loss: 0.6498 - accuracy: 0.6231 - val_loss: 0.6865 - val_accuracy: 0.5165\n",
            "Epoch 69/150\n",
            "17/17 [==============================] - 2s 103ms/step - loss: 0.6495 - accuracy: 0.6300 - val_loss: 0.6850 - val_accuracy: 0.5239\n",
            "Epoch 70/150\n",
            "17/17 [==============================] - 2s 103ms/step - loss: 0.6495 - accuracy: 0.6300 - val_loss: 0.6839 - val_accuracy: 0.5276\n",
            "Epoch 71/150\n",
            "17/17 [==============================] - 2s 103ms/step - loss: 0.6504 - accuracy: 0.6305 - val_loss: 0.6818 - val_accuracy: 0.5276\n",
            "Epoch 72/150\n",
            "17/17 [==============================] - 2s 104ms/step - loss: 0.6375 - accuracy: 0.6424 - val_loss: 0.6803 - val_accuracy: 0.5294\n",
            "Epoch 73/150\n",
            "17/17 [==============================] - 2s 103ms/step - loss: 0.6429 - accuracy: 0.6341 - val_loss: 0.6780 - val_accuracy: 0.5294\n",
            "Epoch 74/150\n",
            "17/17 [==============================] - 2s 103ms/step - loss: 0.6452 - accuracy: 0.6466 - val_loss: 0.6762 - val_accuracy: 0.5294\n",
            "Epoch 75/150\n",
            "17/17 [==============================] - 2s 104ms/step - loss: 0.6440 - accuracy: 0.6369 - val_loss: 0.6744 - val_accuracy: 0.5294\n",
            "Epoch 76/150\n",
            "17/17 [==============================] - 2s 104ms/step - loss: 0.6417 - accuracy: 0.6480 - val_loss: 0.6729 - val_accuracy: 0.5312\n",
            "Epoch 77/150\n",
            "17/17 [==============================] - 2s 104ms/step - loss: 0.6359 - accuracy: 0.6535 - val_loss: 0.6707 - val_accuracy: 0.5312\n",
            "Epoch 78/150\n",
            "17/17 [==============================] - 2s 104ms/step - loss: 0.6288 - accuracy: 0.6769 - val_loss: 0.6672 - val_accuracy: 0.5368\n",
            "Epoch 79/150\n",
            "17/17 [==============================] - 2s 103ms/step - loss: 0.6347 - accuracy: 0.6820 - val_loss: 0.6633 - val_accuracy: 0.5496\n",
            "Epoch 80/150\n",
            "17/17 [==============================] - 2s 103ms/step - loss: 0.6251 - accuracy: 0.6802 - val_loss: 0.6599 - val_accuracy: 0.5588\n",
            "Epoch 81/150\n",
            "17/17 [==============================] - 2s 103ms/step - loss: 0.6269 - accuracy: 0.6857 - val_loss: 0.6543 - val_accuracy: 0.5901\n",
            "Epoch 82/150\n",
            "17/17 [==============================] - 2s 104ms/step - loss: 0.6226 - accuracy: 0.6834 - val_loss: 0.6517 - val_accuracy: 0.5919\n",
            "Epoch 83/150\n",
            "17/17 [==============================] - 2s 104ms/step - loss: 0.6113 - accuracy: 0.6940 - val_loss: 0.6471 - val_accuracy: 0.6103\n",
            "Epoch 84/150\n",
            "17/17 [==============================] - 2s 103ms/step - loss: 0.6041 - accuracy: 0.6981 - val_loss: 0.6411 - val_accuracy: 0.6507\n",
            "Epoch 85/150\n",
            "17/17 [==============================] - 2s 103ms/step - loss: 0.6092 - accuracy: 0.7041 - val_loss: 0.6367 - val_accuracy: 0.6728\n",
            "Epoch 86/150\n",
            "17/17 [==============================] - 2s 104ms/step - loss: 0.6018 - accuracy: 0.7018 - val_loss: 0.6319 - val_accuracy: 0.6857\n",
            "Epoch 87/150\n",
            "17/17 [==============================] - 2s 104ms/step - loss: 0.5986 - accuracy: 0.7013 - val_loss: 0.6273 - val_accuracy: 0.6985\n",
            "Epoch 88/150\n",
            "17/17 [==============================] - 2s 103ms/step - loss: 0.5945 - accuracy: 0.7124 - val_loss: 0.6236 - val_accuracy: 0.6912\n",
            "Epoch 89/150\n",
            "17/17 [==============================] - 2s 103ms/step - loss: 0.5905 - accuracy: 0.7069 - val_loss: 0.6175 - val_accuracy: 0.7169\n",
            "Epoch 90/150\n",
            "17/17 [==============================] - 2s 103ms/step - loss: 0.5850 - accuracy: 0.7101 - val_loss: 0.6127 - val_accuracy: 0.7371\n",
            "Epoch 91/150\n",
            "17/17 [==============================] - 2s 103ms/step - loss: 0.5799 - accuracy: 0.7211 - val_loss: 0.6085 - val_accuracy: 0.7408\n",
            "Epoch 92/150\n",
            "17/17 [==============================] - 2s 104ms/step - loss: 0.5885 - accuracy: 0.7147 - val_loss: 0.6044 - val_accuracy: 0.7463\n",
            "Epoch 93/150\n",
            "17/17 [==============================] - 2s 103ms/step - loss: 0.5770 - accuracy: 0.7285 - val_loss: 0.6003 - val_accuracy: 0.7445\n",
            "Epoch 94/150\n",
            "17/17 [==============================] - 2s 104ms/step - loss: 0.5704 - accuracy: 0.7243 - val_loss: 0.5973 - val_accuracy: 0.7371\n",
            "Epoch 95/150\n",
            "17/17 [==============================] - 2s 103ms/step - loss: 0.5736 - accuracy: 0.7234 - val_loss: 0.5923 - val_accuracy: 0.7518\n",
            "Epoch 96/150\n",
            "17/17 [==============================] - 2s 103ms/step - loss: 0.5708 - accuracy: 0.7193 - val_loss: 0.5888 - val_accuracy: 0.7518\n",
            "Epoch 97/150\n",
            "17/17 [==============================] - 2s 104ms/step - loss: 0.5743 - accuracy: 0.7156 - val_loss: 0.5867 - val_accuracy: 0.7426\n",
            "Epoch 98/150\n",
            "17/17 [==============================] - 2s 103ms/step - loss: 0.5723 - accuracy: 0.7280 - val_loss: 0.5826 - val_accuracy: 0.7463\n",
            "Epoch 99/150\n",
            "17/17 [==============================] - 2s 103ms/step - loss: 0.5647 - accuracy: 0.7335 - val_loss: 0.5797 - val_accuracy: 0.7463\n",
            "Epoch 100/150\n",
            "17/17 [==============================] - 2s 103ms/step - loss: 0.5670 - accuracy: 0.7193 - val_loss: 0.5757 - val_accuracy: 0.7518\n",
            "Epoch 101/150\n",
            "17/17 [==============================] - 2s 104ms/step - loss: 0.5633 - accuracy: 0.7262 - val_loss: 0.5729 - val_accuracy: 0.7555\n",
            "Epoch 102/150\n",
            "17/17 [==============================] - 2s 103ms/step - loss: 0.5545 - accuracy: 0.7211 - val_loss: 0.5721 - val_accuracy: 0.7463\n",
            "Epoch 103/150\n",
            "17/17 [==============================] - 2s 104ms/step - loss: 0.5602 - accuracy: 0.7216 - val_loss: 0.5781 - val_accuracy: 0.7261\n",
            "Epoch 104/150\n",
            "17/17 [==============================] - 2s 103ms/step - loss: 0.5560 - accuracy: 0.7299 - val_loss: 0.5703 - val_accuracy: 0.7426\n",
            "Epoch 105/150\n",
            "17/17 [==============================] - 2s 103ms/step - loss: 0.5450 - accuracy: 0.7271 - val_loss: 0.5661 - val_accuracy: 0.7482\n",
            "Epoch 106/150\n",
            "17/17 [==============================] - 2s 104ms/step - loss: 0.5534 - accuracy: 0.7317 - val_loss: 0.5652 - val_accuracy: 0.7463\n",
            "Epoch 107/150\n",
            "17/17 [==============================] - 2s 103ms/step - loss: 0.5437 - accuracy: 0.7276 - val_loss: 0.5638 - val_accuracy: 0.7463\n",
            "Epoch 108/150\n",
            "17/17 [==============================] - 2s 103ms/step - loss: 0.5491 - accuracy: 0.7363 - val_loss: 0.5618 - val_accuracy: 0.7500\n",
            "Epoch 109/150\n",
            "17/17 [==============================] - 2s 104ms/step - loss: 0.5376 - accuracy: 0.7372 - val_loss: 0.5551 - val_accuracy: 0.7647\n",
            "Epoch 110/150\n",
            "17/17 [==============================] - 2s 105ms/step - loss: 0.5429 - accuracy: 0.7340 - val_loss: 0.5672 - val_accuracy: 0.7151\n",
            "Epoch 111/150\n",
            "17/17 [==============================] - 2s 105ms/step - loss: 0.5444 - accuracy: 0.7345 - val_loss: 0.5603 - val_accuracy: 0.7371\n",
            "Epoch 112/150\n",
            "17/17 [==============================] - 2s 104ms/step - loss: 0.5373 - accuracy: 0.7335 - val_loss: 0.5536 - val_accuracy: 0.7500\n",
            "Epoch 113/150\n",
            "17/17 [==============================] - 2s 104ms/step - loss: 0.5337 - accuracy: 0.7409 - val_loss: 0.5530 - val_accuracy: 0.7482\n",
            "Epoch 114/150\n",
            "17/17 [==============================] - 2s 104ms/step - loss: 0.5299 - accuracy: 0.7492 - val_loss: 0.5509 - val_accuracy: 0.7555\n",
            "Epoch 115/150\n",
            "17/17 [==============================] - 2s 104ms/step - loss: 0.5379 - accuracy: 0.7405 - val_loss: 0.5507 - val_accuracy: 0.7463\n",
            "Epoch 116/150\n",
            "17/17 [==============================] - 2s 103ms/step - loss: 0.5402 - accuracy: 0.7303 - val_loss: 0.5539 - val_accuracy: 0.7463\n",
            "Epoch 117/150\n",
            "17/17 [==============================] - 2s 104ms/step - loss: 0.5354 - accuracy: 0.7460 - val_loss: 0.5516 - val_accuracy: 0.7518\n",
            "Epoch 118/150\n",
            "17/17 [==============================] - 2s 103ms/step - loss: 0.5351 - accuracy: 0.7405 - val_loss: 0.5482 - val_accuracy: 0.7500\n",
            "Epoch 119/150\n",
            "17/17 [==============================] - 2s 103ms/step - loss: 0.5463 - accuracy: 0.7377 - val_loss: 0.5502 - val_accuracy: 0.7482\n",
            "Epoch 120/150\n",
            "17/17 [==============================] - 2s 103ms/step - loss: 0.5281 - accuracy: 0.7529 - val_loss: 0.5466 - val_accuracy: 0.7518\n",
            "Epoch 121/150\n",
            "17/17 [==============================] - 2s 104ms/step - loss: 0.5320 - accuracy: 0.7483 - val_loss: 0.5495 - val_accuracy: 0.7426\n",
            "Epoch 122/150\n",
            "17/17 [==============================] - 2s 104ms/step - loss: 0.5271 - accuracy: 0.7460 - val_loss: 0.5449 - val_accuracy: 0.7482\n",
            "Epoch 123/150\n",
            "17/17 [==============================] - 2s 104ms/step - loss: 0.5238 - accuracy: 0.7529 - val_loss: 0.5413 - val_accuracy: 0.7721\n",
            "Epoch 124/150\n",
            "17/17 [==============================] - 2s 103ms/step - loss: 0.5325 - accuracy: 0.7418 - val_loss: 0.5424 - val_accuracy: 0.7445\n",
            "Epoch 125/150\n",
            "17/17 [==============================] - 2s 103ms/step - loss: 0.5312 - accuracy: 0.7391 - val_loss: 0.5437 - val_accuracy: 0.7500\n",
            "Epoch 126/150\n",
            "17/17 [==============================] - 2s 103ms/step - loss: 0.5243 - accuracy: 0.7510 - val_loss: 0.5413 - val_accuracy: 0.7463\n",
            "Epoch 127/150\n",
            "17/17 [==============================] - 2s 103ms/step - loss: 0.5326 - accuracy: 0.7391 - val_loss: 0.5454 - val_accuracy: 0.7353\n",
            "Epoch 128/150\n",
            "17/17 [==============================] - 2s 104ms/step - loss: 0.5260 - accuracy: 0.7552 - val_loss: 0.5405 - val_accuracy: 0.7500\n",
            "Epoch 129/150\n",
            "17/17 [==============================] - 2s 104ms/step - loss: 0.5238 - accuracy: 0.7543 - val_loss: 0.5413 - val_accuracy: 0.7482\n",
            "Epoch 130/150\n",
            "17/17 [==============================] - 2s 103ms/step - loss: 0.5306 - accuracy: 0.7409 - val_loss: 0.5400 - val_accuracy: 0.7500\n",
            "Epoch 131/150\n",
            "17/17 [==============================] - 2s 103ms/step - loss: 0.5242 - accuracy: 0.7414 - val_loss: 0.5393 - val_accuracy: 0.7500\n",
            "Epoch 132/150\n",
            "17/17 [==============================] - 2s 103ms/step - loss: 0.5288 - accuracy: 0.7432 - val_loss: 0.5397 - val_accuracy: 0.7482\n",
            "Epoch 133/150\n",
            "17/17 [==============================] - 2s 104ms/step - loss: 0.5218 - accuracy: 0.7460 - val_loss: 0.5421 - val_accuracy: 0.7371\n",
            "Epoch 134/150\n",
            "17/17 [==============================] - 2s 104ms/step - loss: 0.5204 - accuracy: 0.7409 - val_loss: 0.5425 - val_accuracy: 0.7371\n",
            "Epoch 135/150\n",
            "17/17 [==============================] - 2s 104ms/step - loss: 0.5168 - accuracy: 0.7593 - val_loss: 0.5400 - val_accuracy: 0.7408\n",
            "Epoch 136/150\n",
            "17/17 [==============================] - 2s 104ms/step - loss: 0.5284 - accuracy: 0.7533 - val_loss: 0.5377 - val_accuracy: 0.7537\n",
            "Epoch 137/150\n",
            "17/17 [==============================] - 2s 104ms/step - loss: 0.5249 - accuracy: 0.7552 - val_loss: 0.5360 - val_accuracy: 0.7574\n",
            "Epoch 138/150\n",
            "17/17 [==============================] - 2s 103ms/step - loss: 0.5126 - accuracy: 0.7635 - val_loss: 0.5392 - val_accuracy: 0.7426\n",
            "Epoch 139/150\n",
            "17/17 [==============================] - 2s 104ms/step - loss: 0.5130 - accuracy: 0.7543 - val_loss: 0.5398 - val_accuracy: 0.7353\n",
            "Epoch 140/150\n",
            "17/17 [==============================] - 2s 103ms/step - loss: 0.5102 - accuracy: 0.7607 - val_loss: 0.5425 - val_accuracy: 0.7316\n",
            "Epoch 141/150\n",
            "17/17 [==============================] - 2s 104ms/step - loss: 0.5151 - accuracy: 0.7515 - val_loss: 0.5335 - val_accuracy: 0.7610\n",
            "Epoch 142/150\n",
            "17/17 [==============================] - 2s 103ms/step - loss: 0.5160 - accuracy: 0.7529 - val_loss: 0.5434 - val_accuracy: 0.7279\n",
            "Epoch 143/150\n",
            "17/17 [==============================] - 2s 103ms/step - loss: 0.5154 - accuracy: 0.7593 - val_loss: 0.5442 - val_accuracy: 0.7279\n",
            "Epoch 144/150\n",
            "17/17 [==============================] - 2s 104ms/step - loss: 0.5175 - accuracy: 0.7520 - val_loss: 0.5336 - val_accuracy: 0.7537\n",
            "Epoch 145/150\n",
            "17/17 [==============================] - 2s 105ms/step - loss: 0.5131 - accuracy: 0.7575 - val_loss: 0.5336 - val_accuracy: 0.7500\n",
            "Epoch 146/150\n",
            "17/17 [==============================] - 2s 104ms/step - loss: 0.5038 - accuracy: 0.7593 - val_loss: 0.5339 - val_accuracy: 0.7463\n",
            "Epoch 147/150\n",
            "17/17 [==============================] - 2s 104ms/step - loss: 0.5226 - accuracy: 0.7510 - val_loss: 0.5338 - val_accuracy: 0.7463\n",
            "Epoch 148/150\n",
            "17/17 [==============================] - 2s 104ms/step - loss: 0.5213 - accuracy: 0.7524 - val_loss: 0.5318 - val_accuracy: 0.7518\n",
            "Epoch 149/150\n",
            "17/17 [==============================] - 2s 104ms/step - loss: 0.5063 - accuracy: 0.7593 - val_loss: 0.5341 - val_accuracy: 0.7426\n",
            "Epoch 150/150\n",
            "17/17 [==============================] - 2s 103ms/step - loss: 0.5090 - accuracy: 0.7506 - val_loss: 0.5279 - val_accuracy: 0.7684\n"
          ]
        }
      ],
      "source": [
        "history = model.fit(X_train, Y_train, epochs = 150, validation_data= (X_val, Y_val),batch_size=128)\n",
        "#score, acc = model.evaluate(X_val, Y_val)"
      ]
    },
    {
      "cell_type": "code",
      "execution_count": null,
      "metadata": {
        "colab": {
          "base_uri": "https://localhost:8080/",
          "height": 266
        },
        "id": "vBx0RPf0KDYF",
        "outputId": "f61c6433-0a41-498a-9f35-2f10296c3a19"
      },
      "outputs": [
        {
          "output_type": "display_data",
          "data": {
            "text/plain": [
              "<Figure size 432x288 with 2 Axes>"
            ],
            "image/png": "[encoded data removed]"
          },
          "metadata": {
            "needs_background": "light"
          }
        }
      ],
      "source": [
        "fig, ax = plt.subplots(2,1)\n",
        "ax[0].plot(history.history['loss'], color='b', label=\"Training loss\")\n",
        "ax[0].plot(history.history['val_loss'], color='r', label=\"validation loss\",axes =ax[0])\n",
        "legend = ax[0].legend(loc='best', shadow=True)\n",
        "\n",
        "ax[1].plot(history.history['accuracy'], color='b', label=\"Training accuracy\")\n",
        "ax[1].plot(history.history['val_accuracy'], color='r',label=\"Validation accuracy\")\n",
        "legend = ax[1].legend(loc='best', shadow=True)"
      ]
    },
    {
      "cell_type": "code",
      "execution_count": null,
      "metadata": {
        "colab": {
          "base_uri": "https://localhost:8080/"
        },
        "id": "b7R1caJU-lyo",
        "outputId": "8189bc85-2a82-4153-a254-7f66144bb799"
      },
      "outputs": [
        {
          "output_type": "stream",
          "name": "stdout",
          "text": [
            "Test Accuracy: 73.913%\n"
          ]
        }
      ],
      "source": [
        "model_acc = model.evaluate(X_test, Y_test, verbose=0)[1]\n",
        "print(\"Test Accuracy: {:.3f}%\".format(model_acc * 100))"
      ]
    },
    {
      "cell_type": "code",
      "source": [
        "plt.figure(figsize=(12, 7))\n",
        "plt.plot(history.history['accuracy'])\n",
        "plt.plot(history.history['val_accuracy'])\n",
        "plt.title('model accuracy')\n",
        "plt.ylabel('accuracy')\n",
        "plt.xlabel('epoch')\n",
        "plt.legend(['train', 'val'], loc='upper left')\n",
        "plt.show()"
      ],
      "metadata": {
        "colab": {
          "base_uri": "https://localhost:8080/",
          "height": 458
        },
        "id": "u5Ji_RNpSu_J",
        "outputId": "5d279a88-f03a-4f89-ea5b-eee1a2288514"
      },
      "execution_count": null,
      "outputs": [
        {
          "output_type": "display_data",
          "data": {
            "text/plain": [
              "<Figure size 864x504 with 1 Axes>"
            ],
            "image/png": "[encoded data removed]"
          },
          "metadata": {
            "needs_background": "light"
          }
        }
      ]
    },
    {
      "cell_type": "code",
      "source": [
        "plt.figure(figsize=(12, 7))\n",
        "plt.plot(history.history['loss'])\n",
        "plt.plot(history.history['val_loss'])\n",
        "plt.title('model loss')\n",
        "plt.ylabel('loss')\n",
        "plt.xlabel('epoch')\n",
        "plt.legend(['train', 'val'], loc='upper left')\n",
        "plt.show()"
      ],
      "metadata": {
        "colab": {
          "base_uri": "https://localhost:8080/",
          "height": 458
        },
        "id": "MAuTvRmwS-dh",
        "outputId": "40445fbd-c20a-47d9-fa96-c96b34bee310"
      },
      "execution_count": null,
      "outputs": [
        {
          "output_type": "display_data",
          "data": {
            "text/plain": [
              "<Figure size 864x504 with 1 Axes>"
            ],
            "image/png": "[encoded data removed]"
          },
          "metadata": {
            "needs_background": "light"
          }
        }
      ]
    },
    {
      "cell_type": "code",
      "execution_count": null,
      "metadata": {
        "colab": {
          "base_uri": "https://localhost:8080/",
          "height": 424
        },
        "id": "wjG_lARB_RHB",
        "outputId": "d6b2c6b7-cdb7-48d1-b2a9-5040c3c20d22"
      },
      "outputs": [
        {
          "output_type": "execute_result",
          "data": {
            "text/plain": [
              "            0         1\n",
              "0    0.285753  0.714247\n",
              "1    0.143420  0.856580\n",
              "2    0.203917  0.796083\n",
              "3    0.171593  0.828407\n",
              "4    0.096867  0.903133\n",
              "..        ...       ...\n",
              "271  0.535417  0.464583\n",
              "272  0.645713  0.354287\n",
              "273  0.944502  0.055498\n",
              "274  0.899614  0.100386\n",
              "275  0.848891  0.151109\n",
              "\n",
              "[276 rows x 2 columns]"
            ],
            "text/html": [
              "\n",
              "  <div id=\"df-404efea7-ddac-449f-bcde-76e9b1964ff1\">\n",
              "    <div class=\"colab-df-container\">\n",
              "      <div>\n",
              "<style scoped>\n",
              "    .dataframe tbody tr th:only-of-type {\n",
              "        vertical-align: middle;\n",
              "    }\n",
              "\n",
              "    .dataframe tbody tr th {\n",
              "        vertical-align: top;\n",
              "    }\n",
              "\n",
              "    .dataframe thead th {\n",
              "        text-align: right;\n",
              "    }\n",
              "</style>\n",
              "<table border=\"1\" class=\"dataframe\">\n",
              "  <thead>\n",
              "    <tr style=\"text-align: right;\">\n",
              "      <th></th>\n",
              "      <th>0</th>\n",
              "      <th>1</th>\n",
              "    </tr>\n",
              "  </thead>\n",
              "  <tbody>\n",
              "    <tr>\n",
              "      <th>0</th>\n",
              "      <td>0.285753</td>\n",
              "      <td>0.714247</td>\n",
              "    </tr>\n",
              "    <tr>\n",
              "      <th>1</th>\n",
              "      <td>0.143420</td>\n",
              "      <td>0.856580</td>\n",
              "    </tr>\n",
              "    <tr>\n",
              "      <th>2</th>\n",
              "      <td>0.203917</td>\n",
              "      <td>0.796083</td>\n",
              "    </tr>\n",
              "    <tr>\n",
              "      <th>3</th>\n",
              "      <td>0.171593</td>\n",
              "      <td>0.828407</td>\n",
              "    </tr>\n",
              "    <tr>\n",
              "      <th>4</th>\n",
              "      <td>0.096867</td>\n",
              "      <td>0.903133</td>\n",
              "    </tr>\n",
              "    <tr>\n",
              "      <th>...</th>\n",
              "      <td>...</td>\n",
              "      <td>...</td>\n",
              "    </tr>\n",
              "    <tr>\n",
              "      <th>271</th>\n",
              "      <td>0.535417</td>\n",
              "      <td>0.464583</td>\n",
              "    </tr>\n",
              "    <tr>\n",
              "      <th>272</th>\n",
              "      <td>0.645713</td>\n",
              "      <td>0.354287</td>\n",
              "    </tr>\n",
              "    <tr>\n",
              "      <th>273</th>\n",
              "      <td>0.944502</td>\n",
              "      <td>0.055498</td>\n",
              "    </tr>\n",
              "    <tr>\n",
              "      <th>274</th>\n",
              "      <td>0.899614</td>\n",
              "      <td>0.100386</td>\n",
              "    </tr>\n",
              "    <tr>\n",
              "      <th>275</th>\n",
              "      <td>0.848891</td>\n",
              "      <td>0.151109</td>\n",
              "    </tr>\n",
              "  </tbody>\n",
              "</table>\n",
              "<p>276 rows × 2 columns</p>\n",
              "</div>\n",
              "      <button class=\"colab-df-convert\" onclick=\"convertToInteractive('df-404efea7-ddac-449f-bcde-76e9b1964ff1')\"\n",
              "              title=\"Convert this dataframe to an interactive table.\"\n",
              "              style=\"display:none;\">\n",
              "        \n",
              "  <svg xmlns=\"http://www.w3.org/2000/svg\" height=\"24px\"viewBox=\"0 0 24 24\"\n",
              "       width=\"24px\">\n",
              "    <path d=\"M0 0h24v24H0V0z\" fill=\"none\"/>\n",
              "    <path d=\"M18.56 5.44l.94 2.06.94-2.06 2.06-.94-2.06-.94-.94-2.06-.94 2.06-2.06.94zm-11 1L8.5 8.5l.94-2.06 2.06-.94-2.06-.94L8.5 2.5l-.94 2.06-2.06.94zm10 10l.94 2.06.94-2.06 2.06-.94-2.06-.94-.94-2.06-.94 2.06-2.06.94z\"/><path d=\"M17.41 7.96l-1.37-1.37c-.4-.4-.92-.59-1.43-.59-.52 0-1.04.2-1.43.59L10.3 9.45l-7.72 7.72c-.78.78-.78 2.05 0 2.83L4 21.41c.39.39.9.59 1.41.59.51 0 1.02-.2 1.41-.59l7.78-7.78 2.81-2.81c.8-.78.8-2.07 0-2.86zM5.41 20L4 18.59l7.72-7.72 1.47 1.35L5.41 20z\"/>\n",
              "  </svg>\n",
              "      </button>\n",
              "      \n",
              "  <style>\n",
              "    .colab-df-container {\n",
              "      display:flex;\n",
              "      flex-wrap:wrap;\n",
              "      gap: 12px;\n",
              "    }\n",
              "\n",
              "    .colab-df-convert {\n",
              "      background-color: #E8F0FE;\n",
              "      border: none;\n",
              "      border-radius: 50%;\n",
              "      cursor: pointer;\n",
              "      display: none;\n",
              "      fill: #1967D2;\n",
              "      height: 32px;\n",
              "      padding: 0 0 0 0;\n",
              "      width: 32px;\n",
              "    }\n",
              "\n",
              "    .colab-df-convert:hover {\n",
              "      background-color: #E2EBFA;\n",
              "      box-shadow: 0px 1px 2px rgba(60, 64, 67, 0.3), 0px 1px 3px 1px rgba(60, 64, 67, 0.15);\n",
              "      fill: #174EA6;\n",
              "    }\n",
              "\n",
              "    [theme=dark] .colab-df-convert {\n",
              "      background-color: #3B4455;\n",
              "      fill: #D2E3FC;\n",
              "    }\n",
              "\n",
              "    [theme=dark] .colab-df-convert:hover {\n",
              "      background-color: #434B5C;\n",
              "      box-shadow: 0px 1px 3px 1px rgba(0, 0, 0, 0.15);\n",
              "      filter: drop-shadow(0px 1px 2px rgba(0, 0, 0, 0.3));\n",
              "      fill: #FFFFFF;\n",
              "    }\n",
              "  </style>\n",
              "\n",
              "      <script>\n",
              "        const buttonEl =\n",
              "          document.querySelector('#df-404efea7-ddac-449f-bcde-76e9b1964ff1 button.colab-df-convert');\n",
              "        buttonEl.style.display =\n",
              "          google.colab.kernel.accessAllowed ? 'block' : 'none';\n",
              "\n",
              "        async function convertToInteractive(key) {\n",
              "          const element = document.querySelector('#df-404efea7-ddac-449f-bcde-76e9b1964ff1');\n",
              "          const dataTable =\n",
              "            await google.colab.kernel.invokeFunction('convertToInteractive',\n",
              "                                                     [key], {});\n",
              "          if (!dataTable) return;\n",
              "\n",
              "          const docLinkHtml = 'Like what you see? Visit the ' +\n",
              "            '<a target=\"_blank\" href=https://colab.research.google.com/notebooks/data_table.ipynb>data table notebook</a>'\n",
              "            + ' to learn more about interactive tables.';\n",
              "          element.innerHTML = '';\n",
              "          dataTable['output_type'] = 'display_data';\n",
              "          await google.colab.output.renderOutput(dataTable, element);\n",
              "          const docLink = document.createElement('div');\n",
              "          docLink.innerHTML = docLinkHtml;\n",
              "          element.appendChild(docLink);\n",
              "        }\n",
              "      </script>\n",
              "    </div>\n",
              "  </div>\n",
              "  "
            ]
          },
          "metadata": {},
          "execution_count": 17
        }
      ],
      "source": [
        "Y_pred = model.predict(X_test)\n",
        "#Y_pred=np.argmax(Y_pred, axis=1)\n",
        "Y_pred = pd.DataFrame(Y_pred)\n",
        "Y_pred"
      ]
    },
    {
      "cell_type": "code",
      "execution_count": null,
      "metadata": {
        "id": "qHcy9OS6CLyj"
      },
      "outputs": [],
      "source": [
        "Y_pred.loc[0].iat[0]=1"
      ]
    },
    {
      "cell_type": "code",
      "execution_count": null,
      "metadata": {
        "colab": {
          "base_uri": "https://localhost:8080/"
        },
        "id": "fE3CBDOVCiHt",
        "outputId": "c345f030-d76d-4f36-a13d-ce5d54f8276e"
      },
      "outputs": [
        {
          "output_type": "execute_result",
          "data": {
            "text/plain": [
              "276"
            ]
          },
          "metadata": {},
          "execution_count": 21
        }
      ],
      "source": [
        "len(Y_pred)"
      ]
    },
    {
      "cell_type": "code",
      "execution_count": null,
      "metadata": {
        "id": "NGJ6bHGqCq4z"
      },
      "outputs": [],
      "source": [
        "for i in range(len(Y_pred)):\n",
        "\n",
        "  if Y_pred.loc[i].iat[0] > 0.5:\n",
        "    Y_pred.loc[i].iat[0] = 1\n",
        "    Y_pred.loc[i].iat[1] = 0\n",
        "  else:\n",
        "    Y_pred.loc[i].iat[0] = 0\n",
        "    Y_pred.loc[i].iat[1] = 1\n",
        "\n"
      ]
    },
    {
      "cell_type": "code",
      "execution_count": null,
      "metadata": {
        "colab": {
          "base_uri": "https://localhost:8080/",
          "height": 424
        },
        "id": "dQDAYhNOD7Vk",
        "outputId": "55dfb379-ae22-4f6e-81c1-467d8d6f149f"
      },
      "outputs": [
        {
          "output_type": "execute_result",
          "data": {
            "text/plain": [
              "       0    1\n",
              "0    1.0  0.0\n",
              "1    0.0  1.0\n",
              "2    0.0  1.0\n",
              "3    0.0  1.0\n",
              "4    0.0  1.0\n",
              "..   ...  ...\n",
              "271  1.0  0.0\n",
              "272  1.0  0.0\n",
              "273  1.0  0.0\n",
              "274  1.0  0.0\n",
              "275  1.0  0.0\n",
              "\n",
              "[276 rows x 2 columns]"
            ],
            "text/html": [
              "\n",
              "  <div id=\"df-6fd252a5-c37f-47d5-8e32-2a0bf658b6dd\">\n",
              "    <div class=\"colab-df-container\">\n",
              "      <div>\n",
              "<style scoped>\n",
              "    .dataframe tbody tr th:only-of-type {\n",
              "        vertical-align: middle;\n",
              "    }\n",
              "\n",
              "    .dataframe tbody tr th {\n",
              "        vertical-align: top;\n",
              "    }\n",
              "\n",
              "    .dataframe thead th {\n",
              "        text-align: right;\n",
              "    }\n",
              "</style>\n",
              "<table border=\"1\" class=\"dataframe\">\n",
              "  <thead>\n",
              "    <tr style=\"text-align: right;\">\n",
              "      <th></th>\n",
              "      <th>0</th>\n",
              "      <th>1</th>\n",
              "    </tr>\n",
              "  </thead>\n",
              "  <tbody>\n",
              "    <tr>\n",
              "      <th>0</th>\n",
              "      <td>1.0</td>\n",
              "      <td>0.0</td>\n",
              "    </tr>\n",
              "    <tr>\n",
              "      <th>1</th>\n",
              "      <td>0.0</td>\n",
              "      <td>1.0</td>\n",
              "    </tr>\n",
              "    <tr>\n",
              "      <th>2</th>\n",
              "      <td>0.0</td>\n",
              "      <td>1.0</td>\n",
              "    </tr>\n",
              "    <tr>\n",
              "      <th>3</th>\n",
              "      <td>0.0</td>\n",
              "      <td>1.0</td>\n",
              "    </tr>\n",
              "    <tr>\n",
              "      <th>4</th>\n",
              "      <td>0.0</td>\n",
              "      <td>1.0</td>\n",
              "    </tr>\n",
              "    <tr>\n",
              "      <th>...</th>\n",
              "      <td>...</td>\n",
              "      <td>...</td>\n",
              "    </tr>\n",
              "    <tr>\n",
              "      <th>271</th>\n",
              "      <td>1.0</td>\n",
              "      <td>0.0</td>\n",
              "    </tr>\n",
              "    <tr>\n",
              "      <th>272</th>\n",
              "      <td>1.0</td>\n",
              "      <td>0.0</td>\n",
              "    </tr>\n",
              "    <tr>\n",
              "      <th>273</th>\n",
              "      <td>1.0</td>\n",
              "      <td>0.0</td>\n",
              "    </tr>\n",
              "    <tr>\n",
              "      <th>274</th>\n",
              "      <td>1.0</td>\n",
              "      <td>0.0</td>\n",
              "    </tr>\n",
              "    <tr>\n",
              "      <th>275</th>\n",
              "      <td>1.0</td>\n",
              "      <td>0.0</td>\n",
              "    </tr>\n",
              "  </tbody>\n",
              "</table>\n",
              "<p>276 rows × 2 columns</p>\n",
              "</div>\n",
              "      <button class=\"colab-df-convert\" onclick=\"convertToInteractive('df-6fd252a5-c37f-47d5-8e32-2a0bf658b6dd')\"\n",
              "              title=\"Convert this dataframe to an interactive table.\"\n",
              "              style=\"display:none;\">\n",
              "        \n",
              "  <svg xmlns=\"http://www.w3.org/2000/svg\" height=\"24px\"viewBox=\"0 0 24 24\"\n",
              "       width=\"24px\">\n",
              "    <path d=\"M0 0h24v24H0V0z\" fill=\"none\"/>\n",
              "    <path d=\"M18.56 5.44l.94 2.06.94-2.06 2.06-.94-2.06-.94-.94-2.06-.94 2.06-2.06.94zm-11 1L8.5 8.5l.94-2.06 2.06-.94-2.06-.94L8.5 2.5l-.94 2.06-2.06.94zm10 10l.94 2.06.94-2.06 2.06-.94-2.06-.94-.94-2.06-.94 2.06-2.06.94z\"/><path d=\"M17.41 7.96l-1.37-1.37c-.4-.4-.92-.59-1.43-.59-.52 0-1.04.2-1.43.59L10.3 9.45l-7.72 7.72c-.78.78-.78 2.05 0 2.83L4 21.41c.39.39.9.59 1.41.59.51 0 1.02-.2 1.41-.59l7.78-7.78 2.81-2.81c.8-.78.8-2.07 0-2.86zM5.41 20L4 18.59l7.72-7.72 1.47 1.35L5.41 20z\"/>\n",
              "  </svg>\n",
              "      </button>\n",
              "      \n",
              "  <style>\n",
              "    .colab-df-container {\n",
              "      display:flex;\n",
              "      flex-wrap:wrap;\n",
              "      gap: 12px;\n",
              "    }\n",
              "\n",
              "    .colab-df-convert {\n",
              "      background-color: #E8F0FE;\n",
              "      border: none;\n",
              "      border-radius: 50%;\n",
              "      cursor: pointer;\n",
              "      display: none;\n",
              "      fill: #1967D2;\n",
              "      height: 32px;\n",
              "      padding: 0 0 0 0;\n",
              "      width: 32px;\n",
              "    }\n",
              "\n",
              "    .colab-df-convert:hover {\n",
              "      background-color: #E2EBFA;\n",
              "      box-shadow: 0px 1px 2px rgba(60, 64, 67, 0.3), 0px 1px 3px 1px rgba(60, 64, 67, 0.15);\n",
              "      fill: #174EA6;\n",
              "    }\n",
              "\n",
              "    [theme=dark] .colab-df-convert {\n",
              "      background-color: #3B4455;\n",
              "      fill: #D2E3FC;\n",
              "    }\n",
              "\n",
              "    [theme=dark] .colab-df-convert:hover {\n",
              "      background-color: #434B5C;\n",
              "      box-shadow: 0px 1px 3px 1px rgba(0, 0, 0, 0.15);\n",
              "      filter: drop-shadow(0px 1px 2px rgba(0, 0, 0, 0.3));\n",
              "      fill: #FFFFFF;\n",
              "    }\n",
              "  </style>\n",
              "\n",
              "      <script>\n",
              "        const buttonEl =\n",
              "          document.querySelector('#df-6fd252a5-c37f-47d5-8e32-2a0bf658b6dd button.colab-df-convert');\n",
              "        buttonEl.style.display =\n",
              "          google.colab.kernel.accessAllowed ? 'block' : 'none';\n",
              "\n",
              "        async function convertToInteractive(key) {\n",
              "          const element = document.querySelector('#df-6fd252a5-c37f-47d5-8e32-2a0bf658b6dd');\n",
              "          const dataTable =\n",
              "            await google.colab.kernel.invokeFunction('convertToInteractive',\n",
              "                                                     [key], {});\n",
              "          if (!dataTable) return;\n",
              "\n",
              "          const docLinkHtml = 'Like what you see? Visit the ' +\n",
              "            '<a target=\"_blank\" href=https://colab.research.google.com/notebooks/data_table.ipynb>data table notebook</a>'\n",
              "            + ' to learn more about interactive tables.';\n",
              "          element.innerHTML = '';\n",
              "          dataTable['output_type'] = 'display_data';\n",
              "          await google.colab.output.renderOutput(dataTable, element);\n",
              "          const docLink = document.createElement('div');\n",
              "          docLink.innerHTML = docLinkHtml;\n",
              "          element.appendChild(docLink);\n",
              "        }\n",
              "      </script>\n",
              "    </div>\n",
              "  </div>\n",
              "  "
            ]
          },
          "metadata": {},
          "execution_count": 23
        }
      ],
      "source": [
        "Y_pred"
      ]
    },
    {
      "cell_type": "code",
      "execution_count": null,
      "metadata": {
        "colab": {
          "base_uri": "https://localhost:8080/",
          "height": 424
        },
        "id": "izPywKoaGkxL",
        "outputId": "929f10ab-b432-48c5-d217-167858bd0abb"
      },
      "outputs": [
        {
          "output_type": "execute_result",
          "data": {
            "text/plain": [
              "     abnormal  normal\n",
              "0           0       1\n",
              "1           0       1\n",
              "2           0       1\n",
              "3           0       1\n",
              "4           0       1\n",
              "..        ...     ...\n",
              "271         1       0\n",
              "272         1       0\n",
              "273         1       0\n",
              "274         1       0\n",
              "275         1       0\n",
              "\n",
              "[276 rows x 2 columns]"
            ],
            "text/html": [
              "\n",
              "  <div id=\"df-37c784cd-5c6d-42e2-9d42-6e1513b9bc11\">\n",
              "    <div class=\"colab-df-container\">\n",
              "      <div>\n",
              "<style scoped>\n",
              "    .dataframe tbody tr th:only-of-type {\n",
              "        vertical-align: middle;\n",
              "    }\n",
              "\n",
              "    .dataframe tbody tr th {\n",
              "        vertical-align: top;\n",
              "    }\n",
              "\n",
              "    .dataframe thead th {\n",
              "        text-align: right;\n",
              "    }\n",
              "</style>\n",
              "<table border=\"1\" class=\"dataframe\">\n",
              "  <thead>\n",
              "    <tr style=\"text-align: right;\">\n",
              "      <th></th>\n",
              "      <th>abnormal</th>\n",
              "      <th>normal</th>\n",
              "    </tr>\n",
              "  </thead>\n",
              "  <tbody>\n",
              "    <tr>\n",
              "      <th>0</th>\n",
              "      <td>0</td>\n",
              "      <td>1</td>\n",
              "    </tr>\n",
              "    <tr>\n",
              "      <th>1</th>\n",
              "      <td>0</td>\n",
              "      <td>1</td>\n",
              "    </tr>\n",
              "    <tr>\n",
              "      <th>2</th>\n",
              "      <td>0</td>\n",
              "      <td>1</td>\n",
              "    </tr>\n",
              "    <tr>\n",
              "      <th>3</th>\n",
              "      <td>0</td>\n",
              "      <td>1</td>\n",
              "    </tr>\n",
              "    <tr>\n",
              "      <th>4</th>\n",
              "      <td>0</td>\n",
              "      <td>1</td>\n",
              "    </tr>\n",
              "    <tr>\n",
              "      <th>...</th>\n",
              "      <td>...</td>\n",
              "      <td>...</td>\n",
              "    </tr>\n",
              "    <tr>\n",
              "      <th>271</th>\n",
              "      <td>1</td>\n",
              "      <td>0</td>\n",
              "    </tr>\n",
              "    <tr>\n",
              "      <th>272</th>\n",
              "      <td>1</td>\n",
              "      <td>0</td>\n",
              "    </tr>\n",
              "    <tr>\n",
              "      <th>273</th>\n",
              "      <td>1</td>\n",
              "      <td>0</td>\n",
              "    </tr>\n",
              "    <tr>\n",
              "      <th>274</th>\n",
              "      <td>1</td>\n",
              "      <td>0</td>\n",
              "    </tr>\n",
              "    <tr>\n",
              "      <th>275</th>\n",
              "      <td>1</td>\n",
              "      <td>0</td>\n",
              "    </tr>\n",
              "  </tbody>\n",
              "</table>\n",
              "<p>276 rows × 2 columns</p>\n",
              "</div>\n",
              "      <button class=\"colab-df-convert\" onclick=\"convertToInteractive('df-37c784cd-5c6d-42e2-9d42-6e1513b9bc11')\"\n",
              "              title=\"Convert this dataframe to an interactive table.\"\n",
              "              style=\"display:none;\">\n",
              "        \n",
              "  <svg xmlns=\"http://www.w3.org/2000/svg\" height=\"24px\"viewBox=\"0 0 24 24\"\n",
              "       width=\"24px\">\n",
              "    <path d=\"M0 0h24v24H0V0z\" fill=\"none\"/>\n",
              "    <path d=\"M18.56 5.44l.94 2.06.94-2.06 2.06-.94-2.06-.94-.94-2.06-.94 2.06-2.06.94zm-11 1L8.5 8.5l.94-2.06 2.06-.94-2.06-.94L8.5 2.5l-.94 2.06-2.06.94zm10 10l.94 2.06.94-2.06 2.06-.94-2.06-.94-.94-2.06-.94 2.06-2.06.94z\"/><path d=\"M17.41 7.96l-1.37-1.37c-.4-.4-.92-.59-1.43-.59-.52 0-1.04.2-1.43.59L10.3 9.45l-7.72 7.72c-.78.78-.78 2.05 0 2.83L4 21.41c.39.39.9.59 1.41.59.51 0 1.02-.2 1.41-.59l7.78-7.78 2.81-2.81c.8-.78.8-2.07 0-2.86zM5.41 20L4 18.59l7.72-7.72 1.47 1.35L5.41 20z\"/>\n",
              "  </svg>\n",
              "      </button>\n",
              "      \n",
              "  <style>\n",
              "    .colab-df-container {\n",
              "      display:flex;\n",
              "      flex-wrap:wrap;\n",
              "      gap: 12px;\n",
              "    }\n",
              "\n",
              "    .colab-df-convert {\n",
              "      background-color: #E8F0FE;\n",
              "      border: none;\n",
              "      border-radius: 50%;\n",
              "      cursor: pointer;\n",
              "      display: none;\n",
              "      fill: #1967D2;\n",
              "      height: 32px;\n",
              "      padding: 0 0 0 0;\n",
              "      width: 32px;\n",
              "    }\n",
              "\n",
              "    .colab-df-convert:hover {\n",
              "      background-color: #E2EBFA;\n",
              "      box-shadow: 0px 1px 2px rgba(60, 64, 67, 0.3), 0px 1px 3px 1px rgba(60, 64, 67, 0.15);\n",
              "      fill: #174EA6;\n",
              "    }\n",
              "\n",
              "    [theme=dark] .colab-df-convert {\n",
              "      background-color: #3B4455;\n",
              "      fill: #D2E3FC;\n",
              "    }\n",
              "\n",
              "    [theme=dark] .colab-df-convert:hover {\n",
              "      background-color: #434B5C;\n",
              "      box-shadow: 0px 1px 3px 1px rgba(0, 0, 0, 0.15);\n",
              "      filter: drop-shadow(0px 1px 2px rgba(0, 0, 0, 0.3));\n",
              "      fill: #FFFFFF;\n",
              "    }\n",
              "  </style>\n",
              "\n",
              "      <script>\n",
              "        const buttonEl =\n",
              "          document.querySelector('#df-37c784cd-5c6d-42e2-9d42-6e1513b9bc11 button.colab-df-convert');\n",
              "        buttonEl.style.display =\n",
              "          google.colab.kernel.accessAllowed ? 'block' : 'none';\n",
              "\n",
              "        async function convertToInteractive(key) {\n",
              "          const element = document.querySelector('#df-37c784cd-5c6d-42e2-9d42-6e1513b9bc11');\n",
              "          const dataTable =\n",
              "            await google.colab.kernel.invokeFunction('convertToInteractive',\n",
              "                                                     [key], {});\n",
              "          if (!dataTable) return;\n",
              "\n",
              "          const docLinkHtml = 'Like what you see? Visit the ' +\n",
              "            '<a target=\"_blank\" href=https://colab.research.google.com/notebooks/data_table.ipynb>data table notebook</a>'\n",
              "            + ' to learn more about interactive tables.';\n",
              "          element.innerHTML = '';\n",
              "          dataTable['output_type'] = 'display_data';\n",
              "          await google.colab.output.renderOutput(dataTable, element);\n",
              "          const docLink = document.createElement('div');\n",
              "          docLink.innerHTML = docLinkHtml;\n",
              "          element.appendChild(docLink);\n",
              "        }\n",
              "      </script>\n",
              "    </div>\n",
              "  </div>\n",
              "  "
            ]
          },
          "metadata": {},
          "execution_count": 24
        }
      ],
      "source": [
        "Y_test"
      ]
    },
    {
      "cell_type": "code",
      "execution_count": null,
      "metadata": {
        "id": "yGfyy0XqHu1s"
      },
      "outputs": [],
      "source": [
        "Y_test = np.array(Y_test)\n",
        "Y_pred = np.array(Y_pred)"
      ]
    },
    {
      "cell_type": "code",
      "source": [
        "tn, fp, fn, tp = confusion_matrix(Y_test.argmax(axis=1), Y_pred.argmax(axis=1)).ravel()"
      ],
      "metadata": {
        "id": "Dv-awGQv1q0l"
      },
      "execution_count": null,
      "outputs": []
    },
    {
      "cell_type": "code",
      "source": [
        "cm = np.matrix([[tp, fn], [fp, tn]])\n",
        "cm = np.array(cm)"
      ],
      "metadata": {
        "id": "FWlf1QW21sEN"
      },
      "execution_count": null,
      "outputs": []
    },
    {
      "cell_type": "code",
      "execution_count": null,
      "metadata": {
        "id": "F_o7PhDfG8wN"
      },
      "outputs": [],
      "source": [
        "cm = confusion_matrix(Y_test.argmax(axis=1), Y_pred.argmax(axis=1))\n"
      ]
    },
    {
      "cell_type": "code",
      "execution_count": null,
      "metadata": {
        "id": "dboeiIYBHQLJ",
        "colab": {
          "base_uri": "https://localhost:8080/"
        },
        "outputId": "b3e98db1-f8e1-4cc1-f234-f40db3e8f7dc"
      },
      "outputs": [
        {
          "output_type": "stream",
          "name": "stdout",
          "text": [
            "[[101  25]\n",
            " [ 48 102]]\n"
          ]
        }
      ],
      "source": [
        "print(cm)"
      ]
    },
    {
      "cell_type": "code",
      "source": [
        "#recall\n",
        "recall = (tp/(tp+fn))*100\n",
        "print(recall)"
      ],
      "metadata": {
        "id": "KH-w7sj4W6mo",
        "colab": {
          "base_uri": "https://localhost:8080/"
        },
        "outputId": "df8c7a4c-38c5-4035-f817-56e7551f8e28"
      },
      "execution_count": null,
      "outputs": [
        {
          "output_type": "stream",
          "name": "stdout",
          "text": [
            "68.0\n"
          ]
        }
      ]
    },
    {
      "cell_type": "code",
      "source": [
        "#precision\n",
        "p = (tp/(tp+fp))*100\n",
        "print(p)"
      ],
      "metadata": {
        "id": "jWckarpva3Lk",
        "colab": {
          "base_uri": "https://localhost:8080/"
        },
        "outputId": "d7cfb538-c67a-46e2-b682-3271fe928748"
      },
      "execution_count": null,
      "outputs": [
        {
          "output_type": "stream",
          "name": "stdout",
          "text": [
            "80.31496062992126\n"
          ]
        }
      ]
    },
    {
      "cell_type": "code",
      "source": [
        "#f1\n",
        "f = (recall*p*2/(recall+p))\n",
        "print(f)"
      ],
      "metadata": {
        "colab": {
          "base_uri": "https://localhost:8080/"
        },
        "id": "UN46VcnJ7Qln",
        "outputId": "b66dcd0d-3400-442b-cccc-1667445834c8"
      },
      "execution_count": null,
      "outputs": [
        {
          "output_type": "stream",
          "name": "stdout",
          "text": [
            "73.6462093862816\n"
          ]
        }
      ]
    },
    {
      "cell_type": "code",
      "source": [],
      "metadata": {
        "id": "eniOA4_p8BnJ"
      },
      "execution_count": null,
      "outputs": []
    }
  ],
  "metadata": {
    "accelerator": "GPU",
    "colab": {
      "provenance": []
    },
    "kernelspec": {
      "display_name": "Python 3",
      "name": "python3"
    },
    "language_info": {
      "name": "python"
    }
  },
  "nbformat": 4,
  "nbformat_minor": 0
}